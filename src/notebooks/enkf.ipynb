{
 "cells": [
  {
   "cell_type": "markdown",
   "metadata": {},
   "source": [
    "# Ensemble Kalman Filter"
   ]
  },
  {
   "cell_type": "markdown",
   "metadata": {},
   "source": [
    "### Keiran Suchak"
   ]
  },
  {
   "cell_type": "markdown",
   "metadata": {},
   "source": [
    "One of the issues faced by the traditional Kalman Filter (KF) is that as the number of state variables increases, the process becomes intractable due to the size of the state covariance matrices [1].\n",
    "We can therefore make use of the Ensemble Kalman Filter (EnKF).\n",
    "The ENKF is much like the traditional KF; however, instead of simply storing a single model state, it stores an *ensemble* of model states, each of which are evolved under the same model dynamics.\n",
    "\n",
    "The aim of the ENKF is to make use of the fact that we have an ensemble of model states to then approximate the state covariance matrix.\n",
    "Once again, this is achieved using a two-step process of\n",
    "\n",
    "1. Forecast\n",
    "2. Update\n",
    "\n",
    "where the forecast is given by\n",
    "$$ X_{t+1}^f = M_t X_t $$\n",
    "\n",
    "and the update is given by\n",
    "$$X_{t+1} = X_{t+1}^f + K_t (D_t - H_t X_t)^-1 $$"
   ]
  },
  {
   "cell_type": "markdown",
   "metadata": {},
   "source": [
    "## Notation"
   ]
  },
  {
   "cell_type": "markdown",
   "metadata": {},
   "source": [
    "* State vector size: $n$\n",
    "* Ensemble size: $N$\n",
    "* Observation vector size: $m$\n",
    "* Ensemble matrix (n \\times N):\n",
    "$$ X = (x_1 , ... , x_N) $$\n"
   ]
  }
 ],
 "metadata": {
  "kernelspec": {
   "display_name": "Python 3",
   "language": "python",
   "name": "python3"
  },
  "language_info": {
   "codemirror_mode": {
    "name": "ipython",
    "version": 3
   },
   "file_extension": ".py",
   "mimetype": "text/x-python",
   "name": "python",
   "nbconvert_exporter": "python",
   "pygments_lexer": "ipython3",
   "version": "3.6.6"
  }
 },
 "nbformat": 4,
 "nbformat_minor": 2
}
